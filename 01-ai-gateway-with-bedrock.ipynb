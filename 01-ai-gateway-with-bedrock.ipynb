{
 "cells": [
  {
   "cell_type": "markdown",
   "metadata": {},
   "source": [
    "## Pre-requisites\n",
    "\n",
    "Ensure following tools are installed before proceeding\n",
    "\n",
    "1. kubectl - The Kubernetes command-line tool\n",
    "2. helm - The package manager for Kubernetes\n",
    "3. curl - For testing API endpoints (installed by default on most systems)\n",
    "4. AWS CLI - AWS command line interface\n",
    "\n",
    "### Setup Kubernetes Cluster on Amazon EKS\n",
    "1. Follow the setup intstructions in this [Amazon EKS workshop](https://www.eksworkshop.com/docs/introduction/setup/your-account/) to create a Kubernetes cluster.\n",
    "2. Note the newly created **Amazon EKS Cluster name** .\n",
    "    "
   ]
  },
  {
   "cell_type": "markdown",
   "metadata": {},
   "source": [
    "### Update Kubeconfig file\n",
    "\n",
    "Replace both AWS region and EKS cluster name below."
   ]
  },
  {
   "cell_type": "code",
   "execution_count": null,
   "metadata": {},
   "outputs": [],
   "source": [
    "!aws eks --region <REPLACE_AWS_REGION> update-kubeconfig --name <REPLACE_EKS_CLUSTER_NAME>"
   ]
  },
  {
   "cell_type": "code",
   "execution_count": null,
   "metadata": {},
   "outputs": [],
   "source": [
    "# Import required libraries\n",
    "\n",
    "import os\n",
    "import subprocess\n",
    "import requests\n",
    "import json\n"
   ]
  },
  {
   "cell_type": "markdown",
   "metadata": {},
   "source": [
    "### Install envoy gagteway system"
   ]
  },
  {
   "cell_type": "code",
   "execution_count": null,
   "metadata": {},
   "outputs": [],
   "source": [
    "!helm upgrade -i eg oci://docker.io/envoyproxy/gateway-helm \\\n",
    "    --version v0.0.0-latest \\\n",
    "    --namespace envoy-gateway-system \\\n",
    "    --create-namespace\n",
    "\n",
    "!kubectl wait --timeout=2m -n envoy-gateway-system deployment/envoy-gateway --for=condition=Available"
   ]
  },
  {
   "cell_type": "markdown",
   "metadata": {},
   "source": [
    "### Install envoy AI Gateway"
   ]
  },
  {
   "cell_type": "code",
   "execution_count": null,
   "metadata": {},
   "outputs": [],
   "source": [
    "!helm upgrade -i aieg oci://docker.io/envoyproxy/ai-gateway-helm \\\n",
    "    --version v0.0.0-latest \\\n",
    "    --namespace envoy-ai-gateway-system \\\n",
    "    --create-namespace\n",
    "\n",
    "!kubectl wait --timeout=2m -n envoy-ai-gateway-system deployment/ai-gateway-controller --for=condition=Available"
   ]
  },
  {
   "cell_type": "markdown",
   "metadata": {},
   "source": [
    "### Configure Envoy Gateway"
   ]
  },
  {
   "cell_type": "code",
   "execution_count": null,
   "metadata": {},
   "outputs": [],
   "source": [
    "!kubectl apply -f https://raw.githubusercontent.com/envoyproxy/ai-gateway/main/manifests/envoy-gateway-config/redis.yaml\n",
    "!kubectl apply -f https://raw.githubusercontent.com/envoyproxy/ai-gateway/main/manifests/envoy-gateway-config/config.yaml\n",
    "!kubectl apply -f https://raw.githubusercontent.com/envoyproxy/ai-gateway/main/manifests/envoy-gateway-config/rbac.yaml\n",
    "\n",
    "!kubectl rollout restart -n envoy-gateway-system deployment/envoy-gateway\n",
    "\n",
    "!kubectl wait --timeout=2m -n envoy-gateway-system deployment/envoy-gateway --for=condition=Available"
   ]
  },
  {
   "cell_type": "markdown",
   "metadata": {},
   "source": [
    "### Verify Pods"
   ]
  },
  {
   "cell_type": "code",
   "execution_count": null,
   "metadata": {},
   "outputs": [],
   "source": [
    "!kubectl get pods -n envoy-ai-gateway-system"
   ]
  },
  {
   "cell_type": "code",
   "execution_count": null,
   "metadata": {},
   "outputs": [],
   "source": [
    "!kubectl get pods -n envoy-gateway-system"
   ]
  },
  {
   "cell_type": "markdown",
   "metadata": {},
   "source": [
    "## Basic Configuration"
   ]
  },
  {
   "cell_type": "code",
   "execution_count": null,
   "metadata": {},
   "outputs": [],
   "source": [
    "# Donwload the configuration template\n",
    "\n",
    "!curl -O https://raw.githubusercontent.com/envoyproxy/ai-gateway/main/examples/basic/basic.yaml"
   ]
  },
  {
   "cell_type": "code",
   "execution_count": null,
   "metadata": {},
   "outputs": [],
   "source": [
    "!kubectl apply -f https://raw.githubusercontent.com/envoyproxy/ai-gateway/main/examples/basic/basic.yaml"
   ]
  },
  {
   "cell_type": "markdown",
   "metadata": {},
   "source": [
    "## Wait for Pods to be ready"
   ]
  },
  {
   "cell_type": "code",
   "execution_count": null,
   "metadata": {},
   "outputs": [],
   "source": [
    "!kubectl wait pods --timeout=2m \\\n",
    "    -l gateway.envoyproxy.io/owning-gateway-name=envoy-ai-gateway-basic \\\n",
    "    -n envoy-gateway-system \\\n",
    "    --for=condition=Ready"
   ]
  },
  {
   "cell_type": "markdown",
   "metadata": {},
   "source": [
    "## Configure GATEWAY_URL\n",
    "\n",
    "Verify the assigned external IP"
   ]
  },
  {
   "cell_type": "code",
   "execution_count": null,
   "metadata": {},
   "outputs": [],
   "source": [
    "!kubectl get svc -n envoy-gateway-system \\\n",
    "    --selector=gateway.envoyproxy.io/owning-gateway-namespace=default,gateway.envoyproxy.io/owning-gateway-name=envoy-ai-gateway-basic"
   ]
  },
  {
   "cell_type": "markdown",
   "metadata": {},
   "source": [
    "## Use external IP"
   ]
  },
  {
   "cell_type": "code",
   "execution_count": null,
   "metadata": {},
   "outputs": [],
   "source": [
    "\n",
    "\n",
    "# Run kubectl command and capture the output\n",
    "gateway_url = subprocess.check_output(\n",
    "    \"kubectl get gateway/envoy-ai-gateway-basic -o jsonpath='{.status.addresses[0].value}'\",\n",
    "    shell=True\n",
    ").decode().strip()\n",
    "\n",
    "# Set the environment variable\n",
    "os.environ['GATEWAY_URL'] = gateway_url\n",
    "\n",
    "# Print the value to verify\n",
    "print(f\"GATEWAY_URL set to: {gateway_url}\")\n"
   ]
  },
  {
   "cell_type": "markdown",
   "metadata": {},
   "source": [
    "## Testing with model backend"
   ]
  },
  {
   "cell_type": "markdown",
   "metadata": {},
   "source": [
    "### Ensure the following\n",
    "1. Update `AWS_ACCESS_KEY_ID` and  `AWS_SECRET_ACCESS_KEY` in basic.yaml file\n",
    "2. Enable access to \"amazon.nova-lite-v1:0\" in the `us-east-1` region\n",
    "3. Update `OPENAI_API_KEY` in basic.yaml file\n",
    "4. Update `x-ai-eg-model` value to `us.amazon.nova-lite-v1:0` from `us.meta.llama3-2-1b-instruct-v1:0` in basic.yaml file.\n",
    "\n",
    "Note - For production use, consider use of AWS secrets manager to store credentials."
   ]
  },
  {
   "cell_type": "markdown",
   "metadata": {},
   "source": [
    "Lets apply the configuration"
   ]
  },
  {
   "cell_type": "code",
   "execution_count": null,
   "metadata": {},
   "outputs": [],
   "source": [
    "!kubectl apply -f basic.yaml\n",
    "\n",
    "!kubectl wait pods --timeout=2m \\\n",
    "  -l gateway.envoyproxy.io/owning-gateway-name=envoy-ai-gateway-basic \\\n",
    "  -n envoy-gateway-system \\\n",
    "  --for=condition=Ready"
   ]
  },
  {
   "cell_type": "markdown",
   "metadata": {},
   "source": [
    "### Next, lets test the configuration\n",
    "\n",
    "1. First we invoke `Amazon Nova Lite model` on Amazon Bedrock to generate a summary of a customer review\n",
    "2. We pass the output of the first LLM call to OpenAI `gpt-4o-mini` model to generate overall sentiment of the customer review"
   ]
  },
  {
   "cell_type": "code",
   "execution_count": null,
   "metadata": {},
   "outputs": [],
   "source": [
    "review = \"\"\"I recently purchased the Smart Coffee Maker from this website, and I must say, it has been a total game-changer for my morning routine! The sleek design fits perfectly on my kitchen counter, and the touchscreen interface is incredibly user-friendly. The coffee it brews is always hot and flavorful, and I love that I can schedule it to start brewing before I wake up.\n",
    "\n",
    "What really impressed me, though, was the customer service. I had a minor issue with the app connectivity, and the support team responded promptly and resolved the problem within hours. The quality of the product and the service has exceeded my expectations. I find it easy to use, and the great tasting coffee is a bonus. Overall, I highly recommend this coffee maker to anyone looking to upgrade their morning coffee experience.\n",
    "\n",
    "I don't have any complaints so far, which is a testament to how well this product has performed.\"\"\"\n",
    "\n",
    "prompt = f\"Analyze the following product review:\\n\\n{review}\\n\\nProvide a short summary review\"\n",
    "\n",
    "# Define the payload\n",
    "payload = {\n",
    "    \"model\": \"us.amazon.nova-lite-v1:0\",\n",
    "    \"messages\": [\n",
    "        {\n",
    "            \"role\": \"user\",\n",
    "            \"content\":  prompt\n",
    "        }\n",
    "    ]\n",
    "}\n",
    "\n",
    "payload = json.dumps(payload)\n",
    "\n",
    "print(\"Bedrock Payload:: \" + payload)\n",
    "\n",
    "# Get the GATEWAY_URL from environment variable\n",
    "gateway_url = \"http://\"+os.environ.get('GATEWAY_URL')\n",
    "\n",
    "url = f\"{gateway_url}/v1/chat/completions\"\n",
    "\n",
    "# Set the headers\n",
    "headers = {\n",
    "    'Content-Type': 'application/json'\n",
    "}\n",
    "\n",
    "\n",
    "# Make the POST request to Bedrock\n",
    "response = requests.post(url, headers=headers, data=payload)\n",
    "\n",
    "# Store the response\n",
    "response_data = response.json()\n",
    "\n",
    "# Print the response (optional)\n",
    "print(json.dumps(response_data, indent=2))\n",
    "\n",
    "content = response_data['choices'][0]['message']['content']\n",
    "\n",
    "print(\"\\n\\nGenerated review summary::\\n\" + content)\n"
   ]
  },
  {
   "cell_type": "markdown",
   "metadata": {},
   "source": [
    "Now we use the summary generated using Amazon Bedrock model and pass it on to OpenAI."
   ]
  },
  {
   "cell_type": "code",
   "execution_count": null,
   "metadata": {},
   "outputs": [],
   "source": [
    "# Build the prompt based on content generated in the first LLM call to Bedrock\n",
    "prompt = f\"Based on this product review summary:\\n\\n{content}\\n\\nWhat is the overall sentiment of the review?\"\n",
    "\n",
    "\n",
    "# Define the payload\n",
    "payload = {\n",
    "    \"model\": \"gpt-4o-mini\",\n",
    "    \"messages\": [\n",
    "        {\n",
    "            \"role\": \"user\",\n",
    "            \"content\":  prompt\n",
    "        }\n",
    "    ]\n",
    "}\n",
    "\n",
    "payload = json.dumps(payload)\n",
    "\n",
    "print(\"OpenAI Payload:: \" + payload)\n",
    "\n",
    "# Get the GATEWAY_URL from environment variable\n",
    "gateway_url = \"http://\"+os.environ.get('GATEWAY_URL')\n",
    "\n",
    "url = f\"{gateway_url}/v1/chat/completions\"\n",
    "\n",
    "# Set the headers\n",
    "headers = {\n",
    "    'Content-Type': 'application/json'\n",
    "}\n",
    "\n",
    "# Make the POST request to OpenAI\n",
    "response = requests.post(url, headers=headers, data=payload)\n",
    "\n",
    "# Store the response\n",
    "response_data = response.json()\n",
    "\n",
    "# Print the response (optional)\n",
    "print(json.dumps(response_data, indent=2))\n",
    "\n",
    "content = response_data['choices'][0]['message']['content']\n",
    "\n",
    "print(\"\\n\\nSentiment Analysis::\\n\" + content)"
   ]
  },
  {
   "cell_type": "markdown",
   "metadata": {},
   "source": [
    "### Run following command to view controller logs"
   ]
  },
  {
   "cell_type": "code",
   "execution_count": null,
   "metadata": {},
   "outputs": [],
   "source": [
    "!kubectl logs -n envoy-ai-gateway-system deployment/ai-gateway-controller"
   ]
  }
 ],
 "metadata": {
  "kernelspec": {
   "display_name": "env",
   "language": "python",
   "name": "python3"
  },
  "language_info": {
   "codemirror_mode": {
    "name": "ipython",
    "version": 3
   },
   "file_extension": ".py",
   "mimetype": "text/x-python",
   "name": "python",
   "nbconvert_exporter": "python",
   "pygments_lexer": "ipython3",
   "version": "3.9.6"
  }
 },
 "nbformat": 4,
 "nbformat_minor": 2
}
